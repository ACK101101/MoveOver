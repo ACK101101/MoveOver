{
 "cells": [
  {
   "attachments": {},
   "cell_type": "markdown",
   "metadata": {},
   "source": [
    "# Move over project demo\n",
    "This notebook is the first attempt of applying detection and tracking system for move over projets\n",
    "- objects are detected and tracked\n",
    "- objects are visualized in the map\n",
    "- objects at lanes are counted\n",
    "- objects that changed lanes are counted\n"
   ]
  },
  {
   "cell_type": "code",
   "execution_count": null,
   "metadata": {},
   "outputs": [],
   "source": [
    "#! could clean up import organization visually\n",
    "import cv2\n",
    "import os\n",
    "import sys\n",
    "import numpy as np\n",
    "import pickle\n",
    "\n",
    "sys.path.insert(0,'../..')\n",
    "os.environ[\"CUDA_VISIBLE_DEVICES\"]=\"1\"\n",
    "\n",
    "from random import randint\n",
    "import matplotlib.pyplot as plt\n",
    "\n",
    "import socket\n",
    "\n",
    "\n",
    "from pathlib import Path\n",
    "\n",
    "from time import time\n",
    "from cav.parameters import Parameters\n",
    "\n",
    "#! not used\n",
    "from cav.visualization import Map, plotBoxes\n",
    "\n",
    "# Deep sort imports\n",
    "from deep_sort import nn_matching\n",
    "from deep_sort.tracker import Tracker\n",
    "from deep_sort.detection import Detection\n",
    "%matplotlib inline \n",
    "\n",
    "import config\n"
   ]
  },
  {
   "cell_type": "code",
   "execution_count": null,
   "metadata": {},
   "outputs": [],
   "source": [
    "#TOPOINT = 'BC'  ### Default value, Bottom center\n",
    "#TOPOINT = 'BR5' ## Bottom Right\n",
    "\n",
    "#! dont fully understand\n",
    "TOPOINT = 'BL10' ## Bottom Left"
   ]
  },
  {
   "attachments": {},
   "cell_type": "markdown",
   "metadata": {},
   "source": [
    "## Deep sort"
   ]
  },
  {
   "cell_type": "code",
   "execution_count": null,
   "metadata": {},
   "outputs": [],
   "source": [
    "#! could move up\n",
    "from moveoverlib.helper import ImageEncoder, create_box_encoder"
   ]
  },
  {
   "cell_type": "code",
   "execution_count": null,
   "metadata": {},
   "outputs": [],
   "source": [
    "#! need to comeback to understand ImageEncoder; not used\n",
    "#! encoder used but much later in main loop\n",
    "image_encoder = ImageEncoder(config.ENCODER_PATH, config.ENCODER_INPUT_NAME, config.ENCODER_OUTPUT_NAME)\n",
    "encoder = create_box_encoder(config.ENCODER_PATH, batch_size=32)"
   ]
  },
  {
   "attachments": {},
   "cell_type": "markdown",
   "metadata": {},
   "source": [
    "## Create tracker"
   ]
  },
  {
   "cell_type": "code",
   "execution_count": null,
   "metadata": {},
   "outputs": [],
   "source": [
    "#! max distance from kth centroid?\n",
    "max_cosine_distance = 0.2\n",
    "#! only check first k distances per centroid?\n",
    "nn_budget = 100\n",
    "\n",
    "#! seems to init some sort of nn object\n",
    "#! need to move down\n",
    "metric = nn_matching.NearestNeighborDistanceMetric(\n",
    "    \"cosine\", max_cosine_distance, nn_budget)"
   ]
  },
  {
   "attachments": {},
   "cell_type": "markdown",
   "metadata": {},
   "source": [
    "### Create params and map objects"
   ]
  },
  {
   "cell_type": "code",
   "execution_count": null,
   "metadata": {},
   "outputs": [],
   "source": [
    "#! seems to create the map between camera and birds eye similar to in 02\n",
    "#! params seem preset for the video; used for view translation\n",
    "#! mymap seems different though, grouping the birds eye and detection icons?\n",
    "params = Parameters()\n",
    "params.generateParameters('./params.json')\n",
    "mymap = Map('./images/SkyView.jpg', './icons_simple.json', params)\n",
    "plt.imshow(mymap.getMap(), interpolation='nearest')\n",
    "plt.show()"
   ]
  },
  {
   "attachments": {},
   "cell_type": "markdown",
   "metadata": {},
   "source": [
    "### Lane Controller"
   ]
  },
  {
   "cell_type": "code",
   "execution_count": null,
   "metadata": {},
   "outputs": [],
   "source": [
    "#! unsure, need to run to see how it works as lanes.py is poorly documented\n",
    "from cav.lanes import Lanes\n",
    "lanes_controller = Lanes('./images/mask.png', params=params)"
   ]
  },
  {
   "attachments": {},
   "cell_type": "markdown",
   "metadata": {},
   "source": [
    "### Saved detections"
   ]
  },
  {
   "cell_type": "code",
   "execution_count": null,
   "metadata": {},
   "outputs": [],
   "source": [
    "#! setting up paths for main loop\n",
    "#! can clean up ordering to make more readable\n",
    "#! don't understand save_detections, creates empty file then reads from it \n",
    "SAVE_DETECTIONS = f'{config.DATA_PATH}/detections.p'\n",
    "FRAME_FOLDER = os.path.join(config.DATA_PATH, 'frames_raw/')\n",
    "VIDEO_FILE = pickle.load(open(f'{config.DATA_PATH}/videopath.p', 'rb'))\n",
    "print ('Video path:', VIDEO_FILE)\n",
    "\n",
    "Path(FRAME_FOLDER).mkdir(parents=True, exist_ok=True)\n",
    "\n",
    "save_detections = pickle.load(open(SAVE_DETECTIONS,'rb'))\n"
   ]
  },
  {
   "attachments": {},
   "cell_type": "markdown",
   "metadata": {},
   "source": [
    "#### Logging parameters"
   ]
  },
  {
   "cell_type": "code",
   "execution_count": null,
   "metadata": {},
   "outputs": [],
   "source": [
    "SAVE_LOG = None #### Saves logs with all detected objects (path to file or none)\n",
    "\n",
    "#! can try both; what info?\n",
    "SAVE_LANES = None ###### Saves info about lanes\n",
    "SAVE_LANES = './data/lanes_detections.csv' ###### Saves info about lanes\n",
    "\n",
    "SKIP_FIRST = 0 # How many seconds in the beginning should be skipped"
   ]
  },
  {
   "attachments": {},
   "cell_type": "markdown",
   "metadata": {},
   "source": [
    "#### Other parameters"
   ]
  },
  {
   "cell_type": "code",
   "execution_count": null,
   "metadata": {},
   "outputs": [],
   "source": [
    "#! opens video file, gets metadata about video\n",
    "cap = cv2.VideoCapture(VIDEO_FILE) \n",
    "FRAMES_SEC = cap.get(cv2.CAP_PROP_FPS)\n",
    "VIDEO_X = int(cap.get(cv2.CAP_PROP_FRAME_WIDTH)) \n",
    "VIDEO_Y = int(cap.get(cv2.CAP_PROP_FRAME_HEIGHT)) \n",
    "\n",
    "#! hyperparams for detection\n",
    "MAX_BOXES_TO_DRAW = 100       #! not 100% sure, max bb per frame?\n",
    "MIN_SCORE_THRESH = 0.5        #! confidence thresh for classification?\n",
    "IOU_COMMON_THRESHOLD = 0.50   #! same as above?\n",
    "NOT_DETECTED_TRHESHOLD = 1    #! not sure\n",
    "\n",
    "MAPSHAPE = mymap.getMap().shape\n",
    "print ('Y dimension of map is {:.3f} larger than Y dimension of the video'\n",
    "      .format(MAPSHAPE[0] / VIDEO_Y))\n",
    "\n",
    "#! downsampling?\n",
    "MAP_RESIZE = 3\n",
    "\n",
    "print ('Y dimension of map is {:.3f} larger than Y dimension of the video. Size of the map is reduced {} times.'\n",
    "      .format(MAPSHAPE[0] / VIDEO_Y, MAP_RESIZE))\n",
    "\n",
    "\n",
    "FINAL_X = VIDEO_X + int(MAPSHAPE[1] / MAP_RESIZE)\n",
    "FINAL_Y = max(VIDEO_Y, int(MAPSHAPE[0] / MAP_RESIZE))\n",
    "\n",
    "print ('Video size: [{}, {}], Final size: [{}, {}]'\n",
    "      .format(VIDEO_X, VIDEO_Y, FINAL_X, FINAL_Y))\n",
    "\n",
    "RESIZE = False                #! not used\n",
    "\n",
    "#! unclear, but pixel coords for video?\n",
    "CROP_VID = False\n",
    "VID_LEFT = 0\n",
    "VID_RIGHT = 1920\n",
    "VID_UP = 0"
   ]
  },
  {
   "cell_type": "code",
   "execution_count": null,
   "metadata": {},
   "outputs": [],
   "source": [
    "#! can prob delete\n",
    "print (MAPSHAPE[0] / VIDEO_Y)"
   ]
  },
  {
   "cell_type": "code",
   "execution_count": null,
   "metadata": {},
   "outputs": [],
   "source": [
    "#! why reopen? seems like didn't actually modify the video above\n",
    "cap = cv2.VideoCapture(VIDEO_FILE) \n",
    "\n",
    "#! specifies video codec but not sure what XVID is\n",
    "fourcc = cv2.VideoWriter_fourcc(*'XVID')\n",
    "\n",
    "out = None              #! not used\n",
    "\n",
    "objects = []\n",
    "\n",
    "results = []            #! not used\n",
    "colors = {}             #! not used\n",
    "\n",
    "#! related to NN and BB but not sure how\n",
    "tracker = Tracker(metric)\n",
    "\n",
    "nr_skipped = 0          #! not used\n",
    "i = 0\n",
    "t = time()\n",
    "\n",
    "#! why use a socket\n",
    "with socket.socket(socket.AF_INET, socket.SOCK_STREAM) as s:\n",
    "    # open lane log file to write to\n",
    "    if SAVE_LANES is not None:\n",
    "        logfile_lanes = open('{}'.format(SAVE_LANES), 'w')\n",
    "\n",
    "    while cap.isOpened():\n",
    "        # time since starting and stats\n",
    "        t2 = time() - t\n",
    "        sys.stdout.write('{} frames done in {:.1f} seconds ({:.2f} frames/sec)    \\r'.format(\n",
    "            i, t2, i/t2))                   \n",
    "        \n",
    "        frame_timeStamp = i/FRAMES_SEC      #! not used\n",
    "        \n",
    "        #! gets next frame; not sure what ret is maybe metadata\n",
    "        ret, image = cap.read()\n",
    "\n",
    "        # skips first k frames\n",
    "        if i < SKIP_FIRST * FRAMES_SEC:\n",
    "            i += 1\n",
    "            continue\n",
    "                \n",
    "        # crops the video\n",
    "        if CROP_VID:\n",
    "            image = image[VID_UP:, VID_LEFT:VID_RIGHT, :]\n",
    "        \n",
    "        #! is save_detections a list of idxs := frames\n",
    "        if i+1 not in save_detections:\n",
    "            break\n",
    "        \n",
    "        #! even more confused as to what save_detections is\n",
    "        #! reading in predone detections per frame?\n",
    "        ###!!! what object is being saved in the save_detections file\n",
    "        boxes, scores, classes = save_detections[i+1] \n",
    "        \n",
    "        if len(boxes) >= 1:\n",
    "            for box in boxes:\n",
    "                if TOPOINT != 'BC':\n",
    "                    box.setToPoint(TOPOINT)         #! find in box class?\n",
    "                    \n",
    "                box.updateParams(params)\n",
    "            \n",
    "            #! what are these bb? for\n",
    "            boxes_array = [[box.xLeft, box.yTop, box.xRight - box.xLeft, box.yBottom - box.yTop] for box in boxes]\n",
    "            boxes_array = np.array(boxes_array)\n",
    "            \n",
    "            #! need to understand encoder\n",
    "            bgr_image = cv2.cvtColor(image,cv2.COLOR_BGR2RGB)\n",
    "            features = encoder(bgr_image, boxes_array)\n",
    "            detections = []\n",
    "\n",
    "            #! reading in from save_detections file, makes Detection object\n",
    "            for box, score, objClass, f_vector in zip(boxes, scores, classes, features):\n",
    "                detection = Detection(\n",
    "                    [box.xLeft, box.yTop, box.xRight - box.xLeft, box.yBottom - box.yTop], #BBox\n",
    "                    score, f_vector,\n",
    "                    objClass\n",
    "                )\n",
    "                detection.bbox = box\n",
    "                detections.append(detection)\n",
    "\n",
    "            #! updates detections list directly?\n",
    "            tracker.predict()\n",
    "            tracker.update(detections)                \n",
    "        \n",
    "        #! if no boxes, what is being used to predict??\n",
    "        else:\n",
    "            tracker.predict()\n",
    "            \n",
    "        plotboxes = []\n",
    "        plotcolors = []\n",
    "        objects = []\n",
    "\n",
    "        if len(tracker.tracks) >= 1:\n",
    "            for track in tracker.tracks:\n",
    "                #! huh? why not use break structure\n",
    "                if not track.is_confirmed() or track.time_since_update >= 1:\n",
    "                    continue\n",
    "\n",
    "                #! what is the trackedObject - bb?\n",
    "                obj = track.trackedObject\n",
    "\n",
    "                if obj is not None:\n",
    "                    if obj.color is None:\n",
    "                        obj.color = (randint(0, 255), randint(0, 255), randint(0, 255))                        \n",
    "                    plotbox = obj.bboxes[-1]\n",
    "                    plotbox.trackId = track.track_id\n",
    "                    plotboxes.append(plotbox)\n",
    "                    plotcolors.append(obj.color)\n",
    "                    objects.append(obj)\n",
    "                    \n",
    "                    if SAVE_LANES is not None:\n",
    "                        #! need to look further into below class\n",
    "                        lane = lanes_controller.addObject(obj)\n",
    "                        if SAVE_LANES is not None:\n",
    "                            log_line = '{},{},{}'.format(i, lane, obj.getParams(asCsv=True, speedLookback = 10))\n",
    "                            print(log_line,file=logfile_lanes)                              \n",
    "\n",
    "            #! plots bb and saves                                             \n",
    "            if len(plotboxes) >= 1:\n",
    "                vid = plotBoxes(image, plotboxes, colors=plotcolors)\n",
    "            else:\n",
    "                vid = image.copy()\n",
    "            cv2.imwrite(os.path.join(FRAME_FOLDER, 'im_{}.jpg'.format(str(i).zfill(6))), vid)\n",
    "\n",
    "        #! can clean up structure\n",
    "        #! save objects\n",
    "        if len(objects) > 0:        \n",
    "            if SAVE_LOG is not None:\n",
    "                logfile = open('./logs/{}'.format(SAVE_LOG, 'w'))\n",
    "                for obj in objects:\n",
    "                    #! error with True  \n",
    "                    line = '{},{},{}'.format(i,time(),obj.getParams(asCsv=true))                     \n",
    "                    print(line,file=logfile)                    \n",
    "                                \n",
    "        i = i+1\n",
    "                \n",
    "#! end stats video                  \n",
    "t = time() - t                             \n",
    "print('\\n\\n{} frames done in {:.1f} seconds ({:.2f} frames/sec)'.format(\n",
    "    i, t, i/t))                             \n",
    "cap.release()\n"
   ]
  }
 ],
 "metadata": {
  "kernelspec": {
   "display_name": "Python 3",
   "language": "python",
   "name": "python3"
  },
  "language_info": {
   "codemirror_mode": {
    "name": "ipython",
    "version": 3
   },
   "file_extension": ".py",
   "mimetype": "text/x-python",
   "name": "python",
   "nbconvert_exporter": "python",
   "pygments_lexer": "ipython3",
   "version": "3.7.6"
  }
 },
 "nbformat": 4,
 "nbformat_minor": 4
}
