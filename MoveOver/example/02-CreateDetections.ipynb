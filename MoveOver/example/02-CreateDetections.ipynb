{
 "cells": [
  {
   "attachments": {},
   "cell_type": "markdown",
   "metadata": {},
   "source": [
    "# Basic example\n",
    "This is a basic notebook, used only to detect and track objects"
   ]
  },
  {
   "cell_type": "code",
   "execution_count": 1,
   "metadata": {},
   "outputs": [],
   "source": [
    "import sys\n",
    "#! still dont fully understand sys.path.insert usage; navigating the directories?\n",
    "sys.path.insert(0,'../..')\n",
    "sys.path.insert(0,'..')\n",
    "\n",
    "import cv2\n",
    "import os\n",
    "import pickle \n",
    "\n",
    "#! Allows notebook to only use GPU 0?\n",
    "os.environ[\"CUDA_VISIBLE_DEVICES\"]=\"0\" \n",
    "\n",
    "from random import randint\n",
    "import matplotlib.pyplot as plt\n",
    "\n",
    "from pathlib import Path\n",
    "\n",
    "from time import time\n",
    "\n",
    "# Deep sort imports\n",
    "from deep_sort import nn_matching\n",
    "\n",
    "import config\n",
    "\n",
    "%matplotlib inline \n"
   ]
  },
  {
   "cell_type": "code",
   "execution_count": 2,
   "metadata": {},
   "outputs": [],
   "source": [
    "from cav.detection import ObjectDetector\n",
    "\n",
    "# Here should be a patch to your object detection model. \n",
    "#! patch or path? Also no models folder as is - use pretrained?\n",
    "od = ObjectDetector(config.MODEL_PATH)"
   ]
  },
  {
   "attachments": {},
   "cell_type": "markdown",
   "metadata": {},
   "source": [
    "#### Parameters"
   ]
  },
  {
   "cell_type": "code",
   "execution_count": 3,
   "metadata": {},
   "outputs": [],
   "source": [
    "### Setting up parameters for object detection loop\n",
    "#! unclear what CUT_UPPER is; move below?\n",
    "#! maybe to crop out the sky?\n",
    "CUT_UPPER = 0\n",
    "# Makes path to save detections and creates the folder\n",
    "SAVE_DETECTIONS = os.path.join(config.DATA_PATH, 'detections.p')\n",
    "Path(os.sep.join(SAVE_DETECTIONS.split(os.sep)[:-1])).mkdir(parents=True, exist_ok=True)\n",
    "\n",
    "# Reads example video saved from part 01\n",
    "VIDEO_FILE = pickle.load(open(f'{config.DATA_PATH}/videopath.p', 'rb'))"
   ]
  },
  {
   "cell_type": "code",
   "execution_count": 4,
   "metadata": {},
   "outputs": [
    {
     "name": "stdout",
     "output_type": "stream",
     "text": [
      "903 frames done in 3692.3 seconds (0.24 frames/sec)    \n",
      "Detections saved in ./data/detections.p.\n"
     ]
    }
   ],
   "source": [
    "### Runs object detection on example video\n",
    "#! loads video?\n",
    "cap = cv2.VideoCapture(VIDEO_FILE)\n",
    "\n",
    "#! objects, results, colors not used\n",
    "objects = []\n",
    "results = []\n",
    "colors = {}\n",
    "\n",
    "save_detections = {}    \n",
    "\n",
    "i = 0\n",
    "t = time()\n",
    "\n",
    "while cap.isOpened():\n",
    "    # get width, height, and fps of video\n",
    "    video_x = int(cap.get(cv2.CAP_PROP_FRAME_WIDTH)) \n",
    "    video_y = int(cap.get(cv2.CAP_PROP_FRAME_HEIGHT)) - CUT_UPPER     \n",
    "    fps = cap.get(cv2.CAP_PROP_FPS)\n",
    "\n",
    "    frame_timeStamp = i/fps\n",
    "\n",
    "    #! time since beginning of while loop?\n",
    "    #! if so can rename better\n",
    "    t2 = time() - t\n",
    "    sys.stdout.write('{} frames done in {:.1f} seconds ({:.2f} frames/sec)    \\r'.format(\n",
    "        i, t2, i/t2))                   \n",
    "    i += 1\n",
    "    \n",
    "    # gets next frame\n",
    "    #! ret not used\n",
    "    ret, image = cap.read()\n",
    "    # no more frames left\n",
    "    if image is None:\n",
    "        break\n",
    "\n",
    "    #! are the 3 dimensions not RGB?\n",
    "    if CUT_UPPER > 0:\n",
    "        image = image[CUT_UPPER:, :, :]\n",
    "    \n",
    "    #! trying to detect move over event? \n",
    "    #! what is it drawing bounding boxes around?\n",
    "    boxes, scores, classes = od.detect(image, timestamp=frame_timeStamp)\n",
    "    if SAVE_DETECTIONS is not None:\n",
    "        save_detections[i] = (boxes, scores, classes)\n",
    "    \n",
    "cap.release()\n",
    "\n",
    "if SAVE_DETECTIONS is not None:\n",
    "    pickle.dump(save_detections, open(SAVE_DETECTIONS,'wb'))\n",
    "    print (f'\\nDetections saved in {SAVE_DETECTIONS}.')\n",
    "\n"
   ]
  },
  {
   "cell_type": "code",
   "execution_count": 5,
   "metadata": {},
   "outputs": [
    {
     "name": "stdout",
     "output_type": "stream",
     "text": [
      "(1920x1080), 30.0 fps\n"
     ]
    }
   ],
   "source": [
    "#! used within the loop?\n",
    "print ('({}x{}), {:.1f} fps'.format(video_x, video_y, fps))"
   ]
  }
 ],
 "metadata": {
  "kernelspec": {
   "display_name": "Python 3",
   "language": "python",
   "name": "python3"
  },
  "language_info": {
   "codemirror_mode": {
    "name": "ipython",
    "version": 3
   },
   "file_extension": ".py",
   "mimetype": "text/x-python",
   "name": "python",
   "nbconvert_exporter": "python",
   "pygments_lexer": "ipython3",
   "version": "3.11.3"
  }
 },
 "nbformat": 4,
 "nbformat_minor": 4
}
